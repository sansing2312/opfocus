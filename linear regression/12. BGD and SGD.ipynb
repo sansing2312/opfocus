{
 "cells": [
  {
   "cell_type": "code",
   "execution_count": 7,
   "id": "f844e440",
   "metadata": {},
   "outputs": [
    {
     "name": "stdout",
     "output_type": "stream",
     "text": [
      "Requirement already satisfied: numpy in c:\\users\\sanju\\onedrive\\desktop\\ml\\ml specialization\\week1\\files (1)\\files\\home\\jovyan\\work\\.venv\\lib\\site-packages (2.3.2)\n",
      "Requirement already satisfied: matplotlib in c:\\users\\sanju\\onedrive\\desktop\\ml\\ml specialization\\week1\\files (1)\\files\\home\\jovyan\\work\\.venv\\lib\\site-packages (3.10.5)\n",
      "Requirement already satisfied: contourpy>=1.0.1 in c:\\users\\sanju\\onedrive\\desktop\\ml\\ml specialization\\week1\\files (1)\\files\\home\\jovyan\\work\\.venv\\lib\\site-packages (from matplotlib) (1.3.3)\n",
      "Requirement already satisfied: cycler>=0.10 in c:\\users\\sanju\\onedrive\\desktop\\ml\\ml specialization\\week1\\files (1)\\files\\home\\jovyan\\work\\.venv\\lib\\site-packages (from matplotlib) (0.12.1)\n",
      "Requirement already satisfied: fonttools>=4.22.0 in c:\\users\\sanju\\onedrive\\desktop\\ml\\ml specialization\\week1\\files (1)\\files\\home\\jovyan\\work\\.venv\\lib\\site-packages (from matplotlib) (4.59.0)\n",
      "Requirement already satisfied: kiwisolver>=1.3.1 in c:\\users\\sanju\\onedrive\\desktop\\ml\\ml specialization\\week1\\files (1)\\files\\home\\jovyan\\work\\.venv\\lib\\site-packages (from matplotlib) (1.4.8)\n",
      "Requirement already satisfied: numpy>=1.23 in c:\\users\\sanju\\onedrive\\desktop\\ml\\ml specialization\\week1\\files (1)\\files\\home\\jovyan\\work\\.venv\\lib\\site-packages (from matplotlib) (2.3.2)\n",
      "Requirement already satisfied: packaging>=20.0 in c:\\users\\sanju\\onedrive\\desktop\\ml\\ml specialization\\week1\\files (1)\\files\\home\\jovyan\\work\\.venv\\lib\\site-packages (from matplotlib) (25.0)\n",
      "Requirement already satisfied: pillow>=8 in c:\\users\\sanju\\onedrive\\desktop\\ml\\ml specialization\\week1\\files (1)\\files\\home\\jovyan\\work\\.venv\\lib\\site-packages (from matplotlib) (11.3.0)\n",
      "Requirement already satisfied: pyparsing>=2.3.1 in c:\\users\\sanju\\onedrive\\desktop\\ml\\ml specialization\\week1\\files (1)\\files\\home\\jovyan\\work\\.venv\\lib\\site-packages (from matplotlib) (3.2.3)\n",
      "Requirement already satisfied: python-dateutil>=2.7 in c:\\users\\sanju\\onedrive\\desktop\\ml\\ml specialization\\week1\\files (1)\\files\\home\\jovyan\\work\\.venv\\lib\\site-packages (from matplotlib) (2.9.0.post0)\n",
      "Requirement already satisfied: six>=1.5 in c:\\users\\sanju\\onedrive\\desktop\\ml\\ml specialization\\week1\\files (1)\\files\\home\\jovyan\\work\\.venv\\lib\\site-packages (from python-dateutil>=2.7->matplotlib) (1.17.0)\n",
      "Requirement already satisfied: scikit-learn in c:\\users\\sanju\\onedrive\\desktop\\ml\\ml specialization\\week1\\files (1)\\files\\home\\jovyan\\work\\.venv\\lib\\site-packages (1.7.1)\n",
      "Requirement already satisfied: numpy>=1.22.0 in c:\\users\\sanju\\onedrive\\desktop\\ml\\ml specialization\\week1\\files (1)\\files\\home\\jovyan\\work\\.venv\\lib\\site-packages (from scikit-learn) (2.3.2)\n",
      "Requirement already satisfied: scipy>=1.8.0 in c:\\users\\sanju\\onedrive\\desktop\\ml\\ml specialization\\week1\\files (1)\\files\\home\\jovyan\\work\\.venv\\lib\\site-packages (from scikit-learn) (1.16.1)\n",
      "Requirement already satisfied: joblib>=1.2.0 in c:\\users\\sanju\\onedrive\\desktop\\ml\\ml specialization\\week1\\files (1)\\files\\home\\jovyan\\work\\.venv\\lib\\site-packages (from scikit-learn) (1.5.1)\n",
      "Requirement already satisfied: threadpoolctl>=3.1.0 in c:\\users\\sanju\\onedrive\\desktop\\ml\\ml specialization\\week1\\files (1)\\files\\home\\jovyan\\work\\.venv\\lib\\site-packages (from scikit-learn) (3.6.0)\n"
     ]
    }
   ],
   "source": [
    "!pip install numpy\n",
    "!pip install matplotlib\n",
    "!pip install scikit-learn "
   ]
  },
  {
   "cell_type": "code",
   "execution_count": 6,
   "id": "5545a661",
   "metadata": {},
   "outputs": [
    {
     "name": "stdout",
     "output_type": "stream",
     "text": [
      "[BGD] Epoch 1 - Theta: [1.61904874 2.076614  ]\n",
      "[BGD] Epoch 2 - Theta: [2.40280418 3.06800172]\n",
      "[BGD] Epoch 3 - Theta: [2.78562328 3.53863296]\n",
      "[BGD] Epoch 4 - Theta: [2.97595902 3.75940184]\n",
      "[BGD] Epoch 5 - Theta: [3.0738508  3.86031258]\n",
      "[SGD] Epoch 1 - Theta: [3.70350201 3.43921251]\n",
      "[SGD] Epoch 2 - Theta: [3.77523522 3.41330901]\n",
      "[SGD] Epoch 3 - Theta: [3.9386293  3.31544043]\n",
      "[SGD] Epoch 4 - Theta: [4.01045694 3.37148636]\n",
      "[SGD] Epoch 5 - Theta: [4.22649566 3.52472214]\n"
     ]
    }
   ],
   "source": [
    "import numpy as np \n",
    "np.random.seed(0)\n",
    "\n",
    "X=2*np.random.rand(10,1)\n",
    "y=4+3 * X + np.random.randn(10, 1) #y = 4 + 3x + noise\n",
    "\n",
    "#Add bias column \n",
    "X_b = np.c_[np.ones((len(X), 1)),X]\n",
    "\n",
    "alpha=0.1 \n",
    "iters = 5 \n",
    "\n",
    "#Batch gradient descent \n",
    "theta_bgd = np.zeros((2,1))\n",
    "for epoch in range(iters):\n",
    "    gradients = (2/len(X_b)) * X_b.T @ (X_b @ theta_bgd - y)\n",
    "    theta_bgd -= alpha * gradients\n",
    "    print(f\"[BGD] Epoch {epoch+1} - Theta: {theta_bgd.ravel()}\")\n",
    "\n",
    "#---Stochastic gradient descent \n",
    "\n",
    "theta_sgd = np.zeros((2,1)) \n",
    "for epoch in range((iters)): \n",
    "    for i in range(len(X_b)): \n",
    "        random_idx = np.random.randint((len(X_b)))\n",
    "        xi = X_b[random_idx:random_idx+1]\n",
    "        yi = y[random_idx:random_idx+1]\n",
    "        gradients = 2 * xi.T @ (xi @ theta_sgd - yi)\n",
    "        theta_sgd -= alpha * gradients\n",
    "    print(f\"[SGD] Epoch {epoch+1} - Theta: {theta_sgd.ravel()}\")"
   ]
  },
  {
   "cell_type": "code",
   "execution_count": 8,
   "id": "86adeaac",
   "metadata": {},
   "outputs": [
    {
     "name": "stdout",
     "output_type": "stream",
     "text": [
      "Batch GD (LinearRegression) Coeffs: [array([8.09524372]), array([[1.12078598]])]\n",
      "SGD Coeffs: [array([8.03889572]), array([1.16919306])]\n"
     ]
    }
   ],
   "source": [
    "#Using SGDRegressor vs LinearRegression\n",
    "from sklearn.linear_model import LinearRegression , SGDRegressor\n",
    "from sklearn.preprocessing import StandardScaler \n",
    "\n",
    "#scale feature for SGD \n",
    "scaler = StandardScaler() \n",
    "X_scaled = scaler.fit_transform(X)\n",
    "\n",
    "#Batch gradient descent \n",
    "lin_reg = LinearRegression() \n",
    "lin_reg.fit(X_scaled, y)\n",
    "print(\"Batch GD (LinearRegression) Coeffs:\", [lin_reg.intercept_, lin_reg.coef_])\n",
    "\n",
    "#Stochasitic gradient descent \n",
    "sgd_reg = SGDRegressor(max_iter=1000, tol=1e-3, penalty=None, eta0=0.1, learning_rate='constant', random_state=0)\n",
    "sgd_reg.fit(X_scaled, y.ravel())\n",
    "print(\"SGD Coeffs:\", [sgd_reg.intercept_, sgd_reg.coef_])\n"
   ]
  },
  {
   "cell_type": "code",
   "execution_count": null,
   "id": "e0cf4fcd",
   "metadata": {},
   "outputs": [],
   "source": []
  }
 ],
 "metadata": {
  "kernelspec": {
   "display_name": ".venv",
   "language": "python",
   "name": "python3"
  },
  "language_info": {
   "codemirror_mode": {
    "name": "ipython",
    "version": 3
   },
   "file_extension": ".py",
   "mimetype": "text/x-python",
   "name": "python",
   "nbconvert_exporter": "python",
   "pygments_lexer": "ipython3",
   "version": "3.13.0"
  }
 },
 "nbformat": 4,
 "nbformat_minor": 5
}
