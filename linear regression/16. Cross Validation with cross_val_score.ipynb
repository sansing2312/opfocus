{
 "cells": [
  {
   "cell_type": "markdown",
   "id": "cba3b868",
   "metadata": {},
   "source": [
    "It splits your data into K folds, trains on K-1 folds and tests on the remaining fold, repeats K times, and returns a score per fold → you take mean ± std for a robust estimate."
   ]
  },
  {
   "cell_type": "code",
   "execution_count": 2,
   "id": "c81518a8",
   "metadata": {},
   "outputs": [
    {
     "name": "stdout",
     "output_type": "stream",
     "text": [
      "Requirement already satisfied: numpy in c:\\users\\sanju\\onedrive\\desktop\\ml\\ml specialization\\week1\\files (1)\\files\\home\\jovyan\\work\\.venv\\lib\\site-packages (2.3.2)\n",
      "Requirement already satisfied: scikit-learn in c:\\users\\sanju\\onedrive\\desktop\\ml\\ml specialization\\week1\\files (1)\\files\\home\\jovyan\\work\\.venv\\lib\\site-packages (1.7.1)\n",
      "Requirement already satisfied: scipy>=1.8.0 in c:\\users\\sanju\\onedrive\\desktop\\ml\\ml specialization\\week1\\files (1)\\files\\home\\jovyan\\work\\.venv\\lib\\site-packages (from scikit-learn) (1.16.1)\n",
      "Requirement already satisfied: joblib>=1.2.0 in c:\\users\\sanju\\onedrive\\desktop\\ml\\ml specialization\\week1\\files (1)\\files\\home\\jovyan\\work\\.venv\\lib\\site-packages (from scikit-learn) (1.5.1)\n",
      "Requirement already satisfied: threadpoolctl>=3.1.0 in c:\\users\\sanju\\onedrive\\desktop\\ml\\ml specialization\\week1\\files (1)\\files\\home\\jovyan\\work\\.venv\\lib\\site-packages (from scikit-learn) (3.6.0)\n"
     ]
    }
   ],
   "source": [
    "!pip install numpy scikit-learn"
   ]
  },
  {
   "cell_type": "code",
   "execution_count": 3,
   "id": "e853669f",
   "metadata": {},
   "outputs": [],
   "source": [
    "import numpy as np \n",
    "from sklearn.datasets import fetch_california_housing \n",
    "from sklearn.model_selection import cross_val_score, KFold \n",
    "from sklearn.preprocessing import StandardScaler, PolynomialFeatures \n",
    "from sklearn.linear_model import Ridge \n",
    "from sklearn.pipeline import make_pipeline"
   ]
  },
  {
   "cell_type": "code",
   "execution_count": 4,
   "id": "f8de7ab1",
   "metadata": {},
   "outputs": [
    {
     "name": "stdout",
     "output_type": "stream",
     "text": [
      "RMSE per fold: [0.67485366 0.67017485 0.66291769 3.79696243 0.68243907]\n",
      "CV RMSE: 1.297 ± 1.250\n"
     ]
    }
   ],
   "source": [
    "#Data \n",
    "X, y = fetch_california_housing(return_X_y=True)\n",
    "\n",
    "#model pipeline \n",
    "model = make_pipeline(\n",
    "    StandardScaler(with_mean=False),\n",
    "    PolynomialFeatures(degree=2, include_bias=False),\n",
    "    Ridge(alpha=1.0, random_state=0)\n",
    ")\n",
    "\n",
    "#CV split \n",
    "cv = KFold(n_splits=5, shuffle=True, random_state=42)\n",
    "\n",
    "\n",
    "\n",
    "#Scoring\n",
    "scores = cross_val_score(model, X, y, cv=cv, scoring=\"neg_mean_squared_error\")\n",
    "rmse = np.sqrt(-scores)\n",
    "\n",
    "print(\"RMSE per fold:\", rmse)\n",
    "print(f\"CV RMSE: {rmse.mean():.3f} ± {rmse.std():.3f}\")"
   ]
  },
  {
   "cell_type": "code",
   "execution_count": null,
   "id": "fa211f3d",
   "metadata": {},
   "outputs": [],
   "source": []
  }
 ],
 "metadata": {
  "kernelspec": {
   "display_name": ".venv",
   "language": "python",
   "name": "python3"
  },
  "language_info": {
   "codemirror_mode": {
    "name": "ipython",
    "version": 3
   },
   "file_extension": ".py",
   "mimetype": "text/x-python",
   "name": "python",
   "nbconvert_exporter": "python",
   "pygments_lexer": "ipython3",
   "version": "3.13.0rc1"
  }
 },
 "nbformat": 4,
 "nbformat_minor": 5
}
