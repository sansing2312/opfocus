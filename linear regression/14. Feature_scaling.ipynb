{
 "cells": [
  {
   "cell_type": "markdown",
   "id": "d04569c5",
   "metadata": {},
   "source": [
    "We will make a simple dataset where:\n",
    "- feature 1 (X1) is in 0-100 range\n",
    "- feature 2 (X2) is in 0-5 range \n",
    "without scaling feature will dominate the regression"
   ]
  },
  {
   "cell_type": "code",
   "execution_count": 1,
   "id": "0ec70a8d",
   "metadata": {},
   "outputs": [
    {
     "name": "stdout",
     "output_type": "stream",
     "text": [
      "Requirement already satisfied: numpy in c:\\users\\sanju\\onedrive\\desktop\\ml\\ml specialization\\week1\\files (1)\\files\\home\\jovyan\\work\\.venv\\lib\\site-packages (2.3.2)\n",
      "Requirement already satisfied: pandas in c:\\users\\sanju\\onedrive\\desktop\\ml\\ml specialization\\week1\\files (1)\\files\\home\\jovyan\\work\\.venv\\lib\\site-packages (2.3.1)\n",
      "Requirement already satisfied: numpy>=1.26.0 in c:\\users\\sanju\\onedrive\\desktop\\ml\\ml specialization\\week1\\files (1)\\files\\home\\jovyan\\work\\.venv\\lib\\site-packages (from pandas) (2.3.2)\n",
      "Requirement already satisfied: python-dateutil>=2.8.2 in c:\\users\\sanju\\onedrive\\desktop\\ml\\ml specialization\\week1\\files (1)\\files\\home\\jovyan\\work\\.venv\\lib\\site-packages (from pandas) (2.9.0.post0)\n",
      "Requirement already satisfied: pytz>=2020.1 in c:\\users\\sanju\\onedrive\\desktop\\ml\\ml specialization\\week1\\files (1)\\files\\home\\jovyan\\work\\.venv\\lib\\site-packages (from pandas) (2025.2)\n",
      "Requirement already satisfied: tzdata>=2022.7 in c:\\users\\sanju\\onedrive\\desktop\\ml\\ml specialization\\week1\\files (1)\\files\\home\\jovyan\\work\\.venv\\lib\\site-packages (from pandas) (2025.2)\n",
      "Requirement already satisfied: six>=1.5 in c:\\users\\sanju\\onedrive\\desktop\\ml\\ml specialization\\week1\\files (1)\\files\\home\\jovyan\\work\\.venv\\lib\\site-packages (from python-dateutil>=2.8.2->pandas) (1.17.0)\n",
      "Requirement already satisfied: scikit-learn in c:\\users\\sanju\\onedrive\\desktop\\ml\\ml specialization\\week1\\files (1)\\files\\home\\jovyan\\work\\.venv\\lib\\site-packages (1.7.1)\n",
      "Requirement already satisfied: numpy>=1.22.0 in c:\\users\\sanju\\onedrive\\desktop\\ml\\ml specialization\\week1\\files (1)\\files\\home\\jovyan\\work\\.venv\\lib\\site-packages (from scikit-learn) (2.3.2)\n",
      "Requirement already satisfied: scipy>=1.8.0 in c:\\users\\sanju\\onedrive\\desktop\\ml\\ml specialization\\week1\\files (1)\\files\\home\\jovyan\\work\\.venv\\lib\\site-packages (from scikit-learn) (1.16.1)\n",
      "Requirement already satisfied: joblib>=1.2.0 in c:\\users\\sanju\\onedrive\\desktop\\ml\\ml specialization\\week1\\files (1)\\files\\home\\jovyan\\work\\.venv\\lib\\site-packages (from scikit-learn) (1.5.1)\n",
      "Requirement already satisfied: threadpoolctl>=3.1.0 in c:\\users\\sanju\\onedrive\\desktop\\ml\\ml specialization\\week1\\files (1)\\files\\home\\jovyan\\work\\.venv\\lib\\site-packages (from scikit-learn) (3.6.0)\n"
     ]
    }
   ],
   "source": [
    "!pip install numpy \n",
    "!pip install pandas \n",
    "!pip install scikit-learn"
   ]
  },
  {
   "cell_type": "code",
   "execution_count": 2,
   "id": "5aafb82a",
   "metadata": {},
   "outputs": [],
   "source": [
    "import numpy as np \n",
    "import pandas as pd \n",
    "from sklearn.model_selection import train_test_split \n",
    "from sklearn.preprocessing import StandardScaler \n",
    "from sklearn.linear_model import LinearRegression \n",
    "from sklearn.metrics import r2_score "
   ]
  },
  {
   "cell_type": "code",
   "execution_count": 5,
   "id": "bbfe9210",
   "metadata": {},
   "outputs": [],
   "source": [
    "np.random.seed(42)\n",
    "X=np.random.rand(10,2)*[100, 5]\n",
    "y=3*X[:,0]+5*X[:,1]+np.random.randn(10)*10  #linear noise \n",
    "\n",
    "X_train,X_test, y_train, y_test = train_test_split(X,y, test_size=0.2, random_state=42)"
   ]
  },
  {
   "cell_type": "code",
   "execution_count": 6,
   "id": "4a7d6825",
   "metadata": {},
   "outputs": [
    {
     "name": "stdout",
     "output_type": "stream",
     "text": [
      "No Scaling R²: 0.9990554789691793\n",
      "No Scaling Coefficients: [3.24760954 6.39966372]\n"
     ]
    }
   ],
   "source": [
    "model_no_scaling = LinearRegression()\n",
    "model_no_scaling.fit(X_train, y_train)\n",
    "pred_no_scaling=model_no_scaling.predict(X_test)\n",
    "\n",
    "print(\"No Scaling R²:\", r2_score(y_test, pred_no_scaling))\n",
    "print(\"No Scaling Coefficients:\", model_no_scaling.coef_)"
   ]
  },
  {
   "cell_type": "code",
   "execution_count": 7,
   "id": "b7520a4f",
   "metadata": {},
   "outputs": [
    {
     "name": "stdout",
     "output_type": "stream",
     "text": [
      "With Scaling R²: 0.9990554789691793\n",
      "With Scaling Coefficients: [85.93871816 10.92156427]\n"
     ]
    }
   ],
   "source": [
    "scaler = StandardScaler()\n",
    "X_train_scaled = scaler.fit_transform(X_train)\n",
    "X_test_scaled = scaler.transform(X_test) \n",
    "\n",
    "model_scaled = LinearRegression()\n",
    "model_scaled.fit(X_train_scaled, y_train)\n",
    "pred_scaled = model_scaled.predict(X_test_scaled)\n",
    "\n",
    "print(\"With Scaling R²:\", r2_score(y_test, pred_scaled))\n",
    "print(\"With Scaling Coefficients:\", model_scaled.coef_)"
   ]
  },
  {
   "cell_type": "markdown",
   "id": "601eb643",
   "metadata": {},
   "source": [
    "Why scaling matters here \n",
    "- without scaling-->coefficients are skewed by the larger numerical range of X1. \n",
    "- with scaling-->both features are on equal footing and coefficients reflects there true impact"
   ]
  },
  {
   "cell_type": "code",
   "execution_count": null,
   "id": "e49d8634",
   "metadata": {},
   "outputs": [],
   "source": []
  }
 ],
 "metadata": {
  "kernelspec": {
   "display_name": ".venv",
   "language": "python",
   "name": "python3"
  },
  "language_info": {
   "codemirror_mode": {
    "name": "ipython",
    "version": 3
   },
   "file_extension": ".py",
   "mimetype": "text/x-python",
   "name": "python",
   "nbconvert_exporter": "python",
   "pygments_lexer": "ipython3",
   "version": "3.13.0rc1"
  }
 },
 "nbformat": 4,
 "nbformat_minor": 5
}
